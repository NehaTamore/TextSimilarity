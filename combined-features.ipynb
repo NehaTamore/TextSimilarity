{
 "cells": [
  {
   "cell_type": "code",
   "execution_count": 1,
   "metadata": {
    "_cell_guid": "b1076dfc-b9ad-4769-8c92-a6c4dae69d19",
    "_uuid": "8f2839f25d086af736a60e9eeb907d3b93b6e0e5"
   },
   "outputs": [
    {
     "name": "stdout",
     "output_type": "stream",
     "text": [
      "['bert-submission', 'submission-bert-on-quora', 'quora-question-pairs']\n"
     ]
    }
   ],
   "source": [
    "# This Python 3 environment comes with many helpful analytics libraries installed\n",
    "# It is defined by the kaggle/python docker image: https://github.com/kaggle/docker-python\n",
    "# For example, here's several helpful packages to load in \n",
    "\n",
    "import numpy as np # linear algebra\n",
    "import pandas as pd # data processing, CSV file I/O (e.g. pd.read_csv)\n",
    "\n",
    "# Input data files are available in the \"../input/\" directory.\n",
    "# For example, running this (by clicking run or pressing Shift+Enter) will list the files in the input directory\n",
    "\n",
    "import os\n",
    "print(os.listdir(\"../input\"))\n",
    "\n",
    "# Any results you write to the current directory are saved as output."
   ]
  },
  {
   "cell_type": "markdown",
   "metadata": {},
   "source": [
    "# BERT\n",
    "This model was previously trained and submitted, though the log loss on train data went upto 0.11 it was 0.24 on test data. Yet this model performs considerably well and doesn't overfit the data"
   ]
  },
  {
   "cell_type": "code",
   "execution_count": 2,
   "metadata": {},
   "outputs": [
    {
     "name": "stderr",
     "output_type": "stream",
     "text": [
      "/opt/conda/lib/python3.6/site-packages/pandas/core/generic.py:4405: SettingWithCopyWarning: \n",
      "A value is trying to be set on a copy of a slice from a DataFrame.\n",
      "Try using .loc[row_indexer,col_indexer] = value instead\n",
      "\n",
      "See the caveats in the documentation: http://pandas.pydata.org/pandas-docs/stable/indexing.html#indexing-view-versus-copy\n",
      "  self[name] = value\n"
     ]
    }
   ],
   "source": [
    "cnn_weightage = 0.15\n",
    "rnn_weightage = 0.05\n",
    "bert_weightage = 0.8\n",
    "\n",
    "combined_csv = pd.read_csv(\"../input/submission-bert-on-quora/submission.csv\")\n",
    "conv1_predictions = pd.read_csv(\"../input/bert-submission/conv1_submission.csv\")\n",
    "rnn_predictions = pd.read_csv(\"../input/bert-submission/rnn_submission.csv\")\n",
    "\n",
    "combined_csv['is_duplicate'] = combined_csv.loc[:,'is_duplicate']*bert_weightage + conv1_predictions.loc[:,'is_duplicate'] * cnn_weightage + rnn_predictions.loc[:,'is_duplicate']*rnn_weightage\n",
    "\n",
    "combined_csv[combined_csv['is_duplicate']<=0.001].is_duplicate = 0\n",
    "combined_csv[combined_csv['is_duplicate']>=0.99].is_duplicate = 1\n",
    "combined_csv.to_csv('combined.csv', index=False)                 "
   ]
  }
 ],
 "metadata": {
  "kernelspec": {
   "display_name": "Python 3",
   "language": "python",
   "name": "python3"
  },
  "language_info": {
   "codemirror_mode": {
    "name": "ipython",
    "version": 3
   },
   "file_extension": ".py",
   "mimetype": "text/x-python",
   "name": "python",
   "nbconvert_exporter": "python",
   "pygments_lexer": "ipython3",
   "version": "3.6.4"
  }
 },
 "nbformat": 4,
 "nbformat_minor": 1
}
